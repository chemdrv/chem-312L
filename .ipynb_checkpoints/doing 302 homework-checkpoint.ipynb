{
 "cells": [
  {
   "cell_type": "code",
   "execution_count": 1,
   "metadata": {},
   "outputs": [],
   "source": [
    "import numpy as np\n",
    "import matplotlib.pyplot as plt"
   ]
  },
  {
   "cell_type": "markdown",
   "metadata": {},
   "source": [
    "Defining constants like Plank's constant below. Be sure you always remind yourself what units you're working in. Here is a change."
   ]
  },
  {
   "cell_type": "code",
   "execution_count": 1,
   "metadata": {},
   "outputs": [],
   "source": [
    "h = 6.626*10**-34 #J*s"
   ]
  },
  {
   "cell_type": "markdown",
   "metadata": {},
   "source": [
    "You can set up a function for the specific equation that you're working on. Here's the syntax for a simple equation.\n",
    "Below my function definition, I give you some examples of usage."
   ]
  },
  {
   "cell_type": "code",
   "execution_count": 2,
   "metadata": {},
   "outputs": [],
   "source": [
    "def debroglie_wavelength(m, v):\n",
    "    \"\"\" returns the debroglie wavelength in m of an object with mass m in kg and velocity v in m/s\"\"\"\n",
    "    return h/(m*v)"
   ]
  },
  {
   "cell_type": "code",
   "execution_count": 40,
   "metadata": {},
   "outputs": [
    {
     "name": "stdout",
     "output_type": "stream",
     "text": [
      "The first calculated wavelength is 2.6504e-33 m\n",
      "The second calculated wavelength is 6.626e-25 nm\n",
      "Notice how I adjusted the units on the second one\n"
     ]
    }
   ],
   "source": [
    "debrog1 = debroglie_wavelength(.5, .5)\n",
    "print(\"The first calculated wavelength is\", debrog1, \"m\")\n",
    "mass2 = 1\n",
    "velocity2 = 1\n",
    "debrog2 = debroglie_wavelength(mass2, velocity2)\n",
    "print(\"The second calculated wavelength is\", debrog2*10**9, \"nm\")\n",
    "print(\"Notice how I adjusted the units on the second one\")"
   ]
  },
  {
   "cell_type": "markdown",
   "metadata": {},
   "source": [
    "But you can also type out functions directly like this:"
   ]
  },
  {
   "cell_type": "code",
   "execution_count": 43,
   "metadata": {},
   "outputs": [
    {
     "name": "stdout",
     "output_type": "stream",
     "text": [
      "6.626e-34\n"
     ]
    }
   ],
   "source": [
    "debrog3 = h/(mass2*velocity2)\n",
    "print(debrog3)"
   ]
  },
  {
   "cell_type": "markdown",
   "metadata": {},
   "source": [
    "What gets really handy is the ability to calculate many values at the same time. In the cell below, I create an array of masses. It runs from 1kg to 500 kg, and has a thousand elements. Then I calculate the de Broglie wavelength of all 1000 masses, and plot them as a function of mass. I threw on some plot formatting so you can see how it works, and zoomed the x axis so you can see how to do that also."
   ]
  },
  {
   "cell_type": "code",
   "execution_count": 45,
   "metadata": {},
   "outputs": [
    {
     "data": {
      "text/plain": [
       "(0, 100)"
      ]
     },
     "execution_count": 45,
     "metadata": {},
     "output_type": "execute_result"
    },
    {
     "data": {
      "image/png": "[encoded data removed]",
      "text/plain": [
       "<Figure size 432x288 with 1 Axes>"
      ]
     },
     "metadata": {
      "needs_background": "light"
     },
     "output_type": "display_data"
    }
   ],
   "source": [
    "mass3 = np.linspace(1, 500, 1000)\n",
    "debrog3 = h/(mass3*velocity1)\n",
    "plt.plot(mass3, debrog3, 'c.')\n",
    "plt.xlabel(\"thingy\")\n",
    "plt.xlim(0,100)"
   ]
  },
  {
   "cell_type": "markdown",
   "metadata": {},
   "source": [
    "You can do this with the function call also, as shown below. I changed up some of the plot formmating so you see how it changes the resulting plot, but it's the same data, and you could make the plots identical if you match the formatting."
   ]
  },
  {
   "cell_type": "code",
   "execution_count": 48,
   "metadata": {},
   "outputs": [
    {
     "data": {
      "text/plain": [
       "Text(0.5, 0, 'thingy')"
      ]
     },
     "execution_count": 48,
     "metadata": {},
     "output_type": "execute_result"
    },
    {
     "data": {
      "image/png": "[encoded data removed]",
      "text/plain": [
       "<Figure size 432x288 with 1 Axes>"
      ]
     },
     "metadata": {
      "needs_background": "light"
     },
     "output_type": "display_data"
    }
   ],
   "source": [
    "mass3 = np.linspace(1, 500, 1000)\n",
    "debrog4 = debroglie_wavelength(mass3, velocity1)\n",
    "plt.plot(mass3, debrog3, 'k')\n",
    "plt.xlabel(\"thingy\")"
   ]
  },
  {
   "cell_type": "markdown",
   "metadata": {},
   "source": [
    "Some useful documentation:\n",
    "\n",
    "https://matplotlib.org/index.html\n",
    "This is the documentation for matplotlib, the plotting package we're using. I like to open up the Examples, find a graph that looks like what I need, then read.\n",
    "\n",
    "https://docs.python.org/3/tutorial/controlflow.html#defining-functions\n",
    "We're doing a lot of work with functions, both ones that you write and ones that exist. It'll be helpful to know the lingo (what is a kwarg??). This is the section in the first Python tutorial on how to write functions, and talks a lot about what goes into a function call. Also, that's the Python tutorial there. You might find it helpful to work through any parts that cover topics you're struggling with.\n",
    "\n",
    "https://docs.scipy.org/doc/numpy/user/index.html\n",
    "Numpy (numeric + python = numpy) is the library that makes Python handle numbers and data wonderfully. This is the documentation link for all of Numpy. Consider poking around the tutorials to get a general familiarity of how Numpy works. If you learn how array broadcasting works, you'll realize that Numpy is magic.\n",
    "\n",
    "https://docs.scipy.org/doc/numpy/reference/\n",
    "In day-to-day work, a reference guide is super helpful, so this is the Numpy reference. It's worth clicking on things like \"Array creation routines\" to realize that Numpy can just *make* make of the arrays that you end up needed.\n",
    "\n",
    "The next step is to get fancy and make 2D plots so that you can vary multiple variables. Let me know when you want to see that."
   ]
  },
  {
   "cell_type": "code",
   "execution_count": 39,
   "metadata": {},
   "outputs": [],
   "source": [
    "a = 5.292*10**-11\n",
    "r = np.linspace(0,15*10**-10, 1000)\n",
    "thingy = r**2/a * (2-(2*r)/a)**2 * np.exp(-2*r/a)"
   ]
  },
  {
   "cell_type": "code",
   "execution_count": 40,
   "metadata": {},
   "outputs": [
    {
     "data": {
      "text/plain": [
       "[<matplotlib.lines.Line2D at 0x17da2029f60>]"
      ]
     },
     "execution_count": 40,
     "metadata": {},
     "output_type": "execute_result"
    },
    {
     "data": {
      "image/png": "[encoded data removed]",
      "text/plain": [
       "<Figure size 432x288 with 1 Axes>"
      ]
     },
     "metadata": {
      "needs_background": "light"
     },
     "output_type": "display_data"
    }
   ],
   "source": [
    "plt.plot(r, thingy)"
   ]
  },
  {
   "cell_type": "code",
   "execution_count": 41,
   "metadata": {},
   "outputs": [
    {
     "data": {
      "text/plain": [
       "1.8651504213461352e-09"
      ]
     },
     "execution_count": 41,
     "metadata": {},
     "output_type": "execute_result"
    }
   ],
   "source": [
    "np.sum(thingy)"
   ]
  },
  {
   "cell_type": "code",
   "execution_count": 34,
   "metadata": {},
   "outputs": [
    {
     "data": {
      "text/plain": [
       "1.0"
      ]
     },
     "execution_count": 34,
     "metadata": {},
     "output_type": "execute_result"
    }
   ],
   "source": [
    "a"
   ]
  },
  {
   "cell_type": "code",
   "execution_count": null,
   "metadata": {},
   "outputs": [],
   "source": []
  }
 ],
 "metadata": {
  "kernelspec": {
   "display_name": "Python 3",
   "language": "python",
   "name": "python3"
  },
  "language_info": {
   "codemirror_mode": {
    "name": "ipython",
    "version": 3
   },
   "file_extension": ".py",
   "mimetype": "text/x-python",
   "name": "python",
   "nbconvert_exporter": "python",
   "pygments_lexer": "ipython3",
   "version": "3.8.5"
  }
 },
 "nbformat": 4,
 "nbformat_minor": 2
}
