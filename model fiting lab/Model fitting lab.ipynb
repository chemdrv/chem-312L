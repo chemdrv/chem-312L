{
 "cells": [
  {
   "cell_type": "markdown",
   "metadata": {},
   "source": [
    "## A note on how you got this file\n",
    "\n",
    "You got this file in one of two ways: you either downloaded it directly from github to your computer, or you use `nbgitpuller` to pull the repository over to your account on Chem Compute. There are also a couple of other files that need to travel along with this file. If you can't get the sample data to load below, check that you grabbed all of the files from github, not just this notebook.\n",
    "\n",
    "\n",
    "# Getting started\n",
    "\n",
    "The goal of this lab is to twofold:\n",
    "1. To give you the programming skills you need to fit data to a model\n",
    "2. To teach you how to decide which model is the best model for a given data set\n",
    "\n",
    "This file is split into three sections. In the first, I import raw data and clean it up for fitting. In the second, I fit the same data set to several functions, and discuss how to decide which is the best model for my data. The final section is your turn: you'll be given a data set and you'll need to fit it yourself.\n",
    "\n",
    "During the first two sections, I've already done everything. However, as you read, you'll want to interact with the code. Execute each cell, and convince yourself that you understand what it's doing. For some of them, I had to guess-and-check to find a value. In those cases, what you see is usually my final answer. You should repeat the guess-and-check on your own to see how I arrived at the place I'm in. Feel free to edit any cells you like to make sure you understand what's going on. If you want to add a cell of your own to play with, use `Insert->Insert Cell Above/Below`. The keyboard shortcut is `Esc->A` or `Esc->B`.\n",
    "\n",
    "#### Don't forget the help\n",
    "\n",
    "Experienced programmers spend much of their time accessing documentation. The trick here is to know what is the best way to get help. Remember that you can type `help(functionname)` in a cell and execute this cell to get inline help. I also recommend having the following documentation websites to hand:\n",
    "\n",
    "https://docs.python.org/3/tutorial/controlflow.html#defining-functions\n",
    "We're doing a lot of work with functions, both ones that you write and ones that exist. It'll be helpful to know the lingo (what is a kwarg??). This is the section in the first Python tutorial on how to write functions, and talks a lot about what goes into a function call. Also, that's the Python tutorial there. You might find it helpful to work through any parts that cover topics you're struggling with.\n",
    "\n",
    "https://matplotlib.org/index.html\n",
    "This is the documentation for matplotlib, the plotting package we're using. I like to open up the Examples, find a graph that looks like what I need, then read.\n",
    "\n",
    "https://docs.scipy.org/doc/numpy/user/index.html\n",
    "Numpy (numeric + python = numpy) is the library that makes Python handle numbers and data wonderfully. This is the documentation link for all of Numpy. Consider poking around the tutorials to get a general familiarity of how Numpy works. If you learn how array broadcasting works, you'll realize that Numpy is magic.\n",
    "\n",
    "https://docs.scipy.org/doc/numpy/reference/\n",
    "In day-to-day work, a reference guide is super helpful, so this is the Numpy reference. It's worth clicking on things like \"Array creation routines\" to realize that Numpy can just *make* make of the arrays that you end up needed.\n",
    "\n",
    "https://docs.scipy.org/doc/scipy/reference/tutorial/optimize.html\n",
    "Scipy is a set of useful tools for scientists (scipy = science + python). This is the documentation for the optimize package, which has all of the model fitting tools we're going to use.\n",
    "\n",
    "Along the way, realize that I'm showing you how to do new skills in action. It's your job to read the documentation to figure out how I'm doing what I'm doing. To get started, execute the cell below to import the libraries that you'll need, and get rolling.\n",
    "\n",
    "(Did you forget how to execute a cell? Click on the cell and press `shift+enter`.)"
   ]
  },
  {
   "cell_type": "code",
   "execution_count": null,
   "metadata": {},
   "outputs": [],
   "source": [
    "import numpy as np\n",
    "import matplotlib.pyplot as plt\n",
    "from scipy.optimize import curve_fit"
   ]
  },
  {
   "cell_type": "markdown",
   "metadata": {},
   "source": [
    "# Importing the sample data\n",
    "\n",
    "The first thing to do is load up the data."
   ]
  },
  {
   "cell_type": "code",
   "execution_count": null,
   "metadata": {},
   "outputs": [],
   "source": [
    "data=np.loadtxt(\"F0000CH1.csv\", delimiter=',', usecols=(3,4))\n",
    "plt.plot(data[:,0],data[:,1])"
   ]
  },
  {
   "cell_type": "markdown",
   "metadata": {},
   "source": [
    "Let's break down that first line. I'm calling the `loadtxt()` function from `numpy` (abbreviated `np`). I've passed three **arguments** to the function. Arguments are the things we give a function to tell it how to behave. The first argument tells Jupyter where to look for the data file. If you saved the test data somewhere else, then you'll need to edit this line accordingly. The next argument specifies the delimeter, which is the character between each number. You don't always have to specify the delimeter, but if you know it then it's a good idea to put it in.\n",
    "\n",
    "The third argument gets into data handling. Go ahead and open up the data file in Excel. This file came off of the oscilloscope we're using in the laser experiments. It has a bunch of metadata in the first two columns, which tells us things like what units the data is in and what equipment did the collecting. The metadata is important to know, but not important for data processing. `loadtxt()` wants rectangular data: rows and columns all full of numbers, no gaps or words. Since the metadata is part of the first two columns, and then a gap, I want to tell `loadtxt()` to skip those first three columns, which is what `usecols=()` does. \"But Dr. V\", you say, \"why do you say to use columns 3 and 4? Shouldn't that be columns 4 and 5?\" And that'd be right...if you were in MATLAB. Python uses what's called 0 indexing, which means you start counting at 0 instead of at 1. There are a lot of reasons why, and basically it's wonderful almost all the time, once you get over the hurdle of learning to count from 0.\n",
    "\n",
    "Now, that way of importing the data is just fine, but accessing the data is a bit cludgy. Depending on how you're accessing your data, it can be nice to put the time vector as one array, and the voltage vector as another array. In the cell below, I import the data a second time, but split up the two arrays. Check the helpful on `loadtxt()` for more info, either by typing `help(np.loadtxt)` into a cell, or by going here: https://docs.scipy.org/doc/numpy/reference/generated/numpy.loadtxt.html\n",
    "\n",
    "**A note** I just told you that I'm importing the data twice. Do you think you need to do it twice when it's your own data? Why or why not?"
   ]
  },
  {
   "cell_type": "code",
   "execution_count": null,
   "metadata": {},
   "outputs": [],
   "source": [
    "raw_time, raw_voltage  = np.loadtxt(\"F0000CH1.csv\", delimiter=',', unpack = True, skiprows=1, usecols=(3,4))\n",
    "plt.plot(raw_time,raw_voltage)"
   ]
  },
  {
   "cell_type": "markdown",
   "metadata": {},
   "source": [
    "## Cleaning up the data\n",
    "\n",
    "### The vertical offset\n",
    "\n",
    "Notice that the initial signal intensity is not zero. The oscilloscope allows a zero point to be set, but I wasn't very careful that day in lab. I want to shift the whole spectrum down so that that initial intensity is zero. The following cell let's you adjust the data to start at a zero voltage. **What you should do:** I've started it with a value of `index` that's totally wrong. First, figure out what the lines are trying to do. Next, change that index value and re-run it. Keep adjusting the index value until you've got it averaging just the area before the steep initial rise.\n",
    "\n",
    "This isn't strictly necessary, as I habitually fit data to allow for a vertical offset, but it's a nice skill to have."
   ]
  },
  {
   "cell_type": "code",
   "execution_count": null,
   "metadata": {},
   "outputs": [],
   "source": [
    "print(\"The length of the voltage array is \", np.shape(raw_voltage))\n",
    "index=700\n",
    "print(f\"I'm going to try trimming it to the first {index} points and see if that's the section before the rise.\")\n",
    "plt.plot(raw_time[:index],raw_voltage[:index])\n",
    "plt.title(\"Plot that should show only the section before the rise\")\n",
    "initialAverage = np.average(raw_voltage[:index]) #this calculates the average value for the initial section of voltage\n",
    "print(\"The average over my initial points is \", initialAverage) #prints that average so I can see what's happening\n",
    "voltageAdj = raw_voltage - initialAverage #create a new voltage array subtracting off that initial value\n",
    "plt.figure(2) #open a second figure window so it doesn't overwrite the previous graph\n",
    "plt.plot(raw_time,voltageAdj)\n",
    "plt.title(\"If everything's right, the section before the rise should now be at V=0.\")"
   ]
  },
  {
   "cell_type": "markdown",
   "metadata": {},
   "source": [
    "### Trimming it horizontally\n",
    "\n",
    "We don't want to fit the entire dataset. Instead, we need to trim it to just show the decay. Use the cell below in a similar manner to the previous bit in order to trim your data to just the decay portion. The plot is showing you two lines: The full dataset in blue, and the trimmed dataset in orange. You want to trim it so that the orange line starts just after the max value."
   ]
  },
  {
   "cell_type": "code",
   "execution_count": null,
   "metadata": {},
   "outputs": [],
   "source": [
    "index = 800 # I can use the same variable name here since it's just used in this cell anyway.\n",
    "print(f\"My array is {len(voltageAdj)} points long. I'm going to try to trim off the first {index} points.\")\n",
    "plt.plot(raw_time,voltageAdj, label = \"full data set\")\n",
    "plt.plot(raw_time[index:],voltageAdj[index:], label = \"trimmed data\")\n",
    "plt.legend()\n",
    "\n",
    "#These two lines slice out the selected portion of the array and give them new names\n",
    "# for use in the rest of the notebook.\n",
    "time = raw_time[index:]\n",
    "voltage = voltageAdj[index:]"
   ]
  },
  {
   "cell_type": "markdown",
   "metadata": {},
   "source": [
    "Now, I could have stored the time and voltage under the same name. But, every time I execute the cell above, it trims off points from the array. It's more robust to store the arrays under a new name. I've done this enough to learn to call the arrays `raw_thingy` when I first import the data, so that I have `thingy` available as a name for the version I actually want to work with."
   ]
  },
  {
   "attachments": {
    "parameter%20surface.png": {
     "image/png": "[encoded data removed]"
    }
   },
   "cell_type": "markdown",
   "metadata": {},
   "source": [
    "# Fitting the sample data\n",
    "\n",
    "## How fitting works\n",
    "You've all used Excel or a similar program to add on a treadline. You may or may not know the process by which that line gets generated. There's a lot of layers here, so I'm gonna give you some theory before I go ahead and do it. This whole process gets called Optimization in the programming literature. You can see the options for Scipy (the Python scientific programming library) here: https://docs.scipy.org/doc/scipy/reference/optimize.html As you can see, there are a lot of ways to approach this.\n",
    "\n",
    "### A bit about linear least squares\n",
    "\n",
    "The fit method Excel uses for a linear trendline is called linear least squares. The 'least squares' part of the name refers to how we decide we have the best fit: we want to minimize the sum of the residuals squared. Let's break that down. Given a set of experimental data points $y_{obs}$, we want to calculate the set of calculated points $y_{calc}$ which best fit that data within the model we have chosen. The residuals, $r$ are the difference between the two points:\n",
    "\n",
    "\\begin{equation}\n",
    "r = y_{obs} - y_{calc}\n",
    "\\end{equation}\n",
    "\n",
    "The least squares method says we want to minimize the following quantity:\n",
    "\\begin{equation}\n",
    "\\Sigma r^2\n",
    "\\end{equation}\n",
    "\n",
    "We're saying that the line of best fit has the overall smallest differences between that line and the experimental data.\n",
    "\n",
    "The 'linear' part in the least squares name has nothing to do with only fitting lines. Rather, it's any function form that is linear with the fit parameters, that is, each fit parameter can be multiplied by an function of x. For example, the equation below is linear with respect to parameters $a$, $b$, and $c$, so it can be fit using linear least squares.\n",
    "\n",
    "\\begin{equation}\n",
    "ax + bx^2 + c \\sin(x)\n",
    "\\end{equation}\n",
    "\n",
    "It turns out the linear least squares problem is analytically solveable: there is one unique solution for any data set and model combination. You can solve it with paper and pencil using some matrix algebra. No one actually does that outside of math classes, but you could, if you felt motivated. Realistically, outside of very small problems for illustration of the concept, everyone uses a computerized fitter.\n",
    "\n",
    "### Taking it further: The search algorithm\n",
    "\n",
    "More complicated functional forms and larger data sets tend to demand actual search functions. These are functions that do a guess-and-check routine, often with some randomness, and a fair bit of calculus thrown in, to attempt to find the minimum of some function. Why minimum? You set up the problem to define the difference between the model fit and the experimental data, and then attempt to minimize the difference between them. Usually this is the sum of the residuals squared. To visualize what's happening, take a look at the figure below:\n",
    "\n",
    "![parameter%20surface.png](attachment:parameter%20surface.png)\n",
    "\n",
    "The y-axis on this graph is the function we're trying to minimize, the difference between the model data and our data. The computer is trying to find the global minimum, but it doesn't know the surface. The computer starts at some point and starts walking. Each step it picks a set of parameters, calculates $\\Sigma r^2$, and compares with the previous value. Then, based on the algorithm, it decides a new set of parameters, and repeats. The goal, for this graph, would be to find the set of parameters corresponding to point `A`.\n",
    "\n",
    "You can imagine that where you start is really important. If you start searching at point `D`, it's pretty easy to fall downhill and hit the global minmum. If you start at point `C`, it's much harder. There's that deep well at point `B` between your original starting point and the real answer. This is why sometimes it's helpful to give an initial guess at the paramters.\n",
    "\n",
    "Another complication is the number of axies. I've drawn one paramter axis, but really, there are as many search axes as there are parmeters. This means that, for a linear fit, the computer can decide to take a step along the slope axis, or along the y-intercept axis, or diagonally and change both. Models with more parameters, therefore, tend to take longer to fit, as well as sometimes running into problems finding a minimum value.\n",
    "\n",
    "There are a lot of ways to decide how to take these steps, which is where the particular *optimization algorithm* comes in. Nelder-Mead and nonlinear-conjugate-gradient are two that Scipy can handle. If you don't know enough to know how to pick them, don't worry. Just go with the default, but keep it in your head that some of these althorithms are specalized, and if you can't get a weird data set to fit, maybe you should learn about different algorithms.\n",
    "\n",
    "### Then there's the fitter itself\n",
    "\n",
    "If you look at the Scipy Optimize page linked above, you'll see a lot of options for functions. Some find roots, others minimize. Some allow you to set bounds, some require you to know what a Jacobian and a Hessian matrix are. It's good to poke around there to see what's available, and how the functions differ, but don't feel like you need to know them all. I usually have one or two that I remember how to use, and learn new ones as I need them. We're going to use the `curve_fit` function. This function lets us define any functional form, lets us put in uncertainty on the data, and gives us the covariance matrix (more on that below), so it's pretty spiffy. The way we work `curve_fit` is to first define our model function.\n",
    "\n",
    "### Wait, we have a search algorith, a fitter, AND a model??\n",
    "\n",
    "Yes. And the model is the most important part. Is your data best fit by a line or by an expontial? Are we justified in adding in a quadradtic parameter or is that overkill? Is there physical meaning to fitting this data to two exponentials? Defining the model is key to having *meaning* from your data, not just a pile of numbers. As we're scientists, we want our data to have physical meaning whenever possible. So I'm going to start by hoping that my sample data is best fit to a decaying exponential. After all, it's from a kinetics experiment. If the signal is proportional to some chemical species that is reacting away, a decaying exponential functional form means that my reaction is first order in that reactant.\n",
    "\n",
    "## The first fit: an exponential\n",
    "\n",
    "### Getting the fit set up\n",
    "\n",
    "I'll start by defining my own function, which is an exponential. In the cell below my new function, I use it to plot with some arbitrary data, just to show that it works. Note that I've defined my function without a negative sign in the `exp()`. This means that `k` has a negative value for a decay. Then I test my function by graphing an arbitrary set of parameters.\n",
    "\n",
    "**A note:** Do you need to execute the lines containing `thing1` and `thing2` in order for this to work? What are those lines doing?"
   ]
  },
  {
   "cell_type": "code",
   "execution_count": null,
   "metadata": {},
   "outputs": [],
   "source": [
    "def exponential(x, a, k, b):\n",
    "    ''' Returns y = a exp(k*x) + b for any data set x sent to the function'''\n",
    "    return a*np.exp(k*x) + b"
   ]
  },
  {
   "cell_type": "code",
   "execution_count": null,
   "metadata": {},
   "outputs": [],
   "source": [
    "thing1 = np.arange(0,10,.5) #this makes an array going from 0 to 10 in steps of 0.5. linspace() is similar and also good to know\n",
    "thing2 = exponential(thing1, 1, -2, 3)\n",
    "plt.plot(thing1,thing2)"
   ]
  },
  {
   "cell_type": "markdown",
   "metadata": {},
   "source": [
    "Next, let's check out the help on the `curve_fit` function:"
   ]
  },
  {
   "cell_type": "code",
   "execution_count": null,
   "metadata": {},
   "outputs": [],
   "source": [
    "help(curve_fit)"
   ]
  },
  {
   "cell_type": "markdown",
   "metadata": {},
   "source": [
    "`curve_fit` has three required argments. The first is the user-defined function that you'll be fitting your data to. The second is the x-values that you want to fit, and the third is the y- values. It also has the optional argument `sigma`, which is the weight you wish to assign to each value. We'll get to that later.\n",
    "\n",
    "If you scroll down in the help, you'll see that `curve_fit` returns two values: `popt`, an array of parameters, and `pcov`, the covariance matrix. `popt` are the optimized parameters. You have to save the value of `pcov` as a variable, but we aren't ready to deal with it yet.\n",
    "\n",
    "The cell below has an example call of `curve_fit`, using the function and arrays I've defined above, so that you can see how to use it. It assignes an array of fit parameters to the variable `popt`, which I'm printing so that you can see them."
   ]
  },
  {
   "cell_type": "code",
   "execution_count": null,
   "metadata": {},
   "outputs": [],
   "source": [
    "popt_first, pcov_first = curve_fit(exponential, time, voltage)\n",
    "print(popt_first)"
   ]
  },
  {
   "cell_type": "markdown",
   "metadata": {},
   "source": [
    "Oh no! Panic! It's throwing a `RuntimeError`. Just kidding about the panic. Let's look at the error more carefully. It says that it reaced 800 calls to the function. This means that it took 800 steps and hasn't found the answer, so it's stopping. The nice thing about modern fitting altorithms is that they're not dumb. `curve_fit` is programmed to stop if it's not getting close to the answer. The default is to stop after 800 steps. Now, I could just override that and increase that to 1000 (or 10,000, or a zillion) calls to see if it works. But let's think a bit first.\n",
    "\n",
    "Remember, `curve_fit` knows **nothing** about the data you're fitting. Is it huge or tiny, is it strongly varying or basically flat? `curve_fit` has no information until it gets started.  The more info we can give it, the easier the data is to fit. A really useful piece of information to give a curve fitter is a guess at the initial paramters, and it doesn't even have to be close. I'm gonna make the following guesses:\n",
    "\n",
    " - a = .1, because the y-intercept is a bit above 0.08 in my plot above\n",
    " - k = 1, because I struggle to estimate rate constants, so I'm gonna see if I can be lazy and avoid it\n",
    " - b = 0, because the data flatlines at about 0 at long time.\n",
    "\n",
    "Notice that my guesses aren't really that careful. But they narrow down a starting point for `a` from \"any number ever\" to \"probably near .1\", which is a lot. In the line below, I re-run `curve_fit` with my initial guesses for the parameter values, and this time it fints a set of values. "
   ]
  },
  {
   "cell_type": "code",
   "execution_count": null,
   "metadata": {},
   "outputs": [],
   "source": [
    "popt_first, pcov_first = curve_fit(exponential, time, voltage, p0=(.1, 1, 0))\n",
    "print(f\"The value for a is {popt_first[0]}. The value for k is {popt_first[1]}. The value for b is {popt_first[2]}\")"
   ]
  },
  {
   "cell_type": "markdown",
   "metadata": {},
   "source": [
    "### Verifying that the fit makes sense and checking the residuals\n",
    "\n",
    "While these fitters are generally very good, always keep in mind that they're basically a black box with no brain that we're feeding data into and hoping we get a good result. Sometimes it'll find a really weird fit, so it's a good idea to plot the fitted model on top of the original data, to make sure that it's not dumb.\n",
    "\n",
    "A next step to check your fit is to generate a residual plot, that is, $y_{obs} - y_{calc}$. You want to look for recognizable functions within the residual plot. If it shows a straight line, or a parabola, or an oscillation, that means that your model isn't capturing all of the features of your data. An ideal residual plot shows data that is randomly positive and negative, with no discernable pattern across the plot.\n",
    "\n",
    "In the cell below, I put both of these things on one plt by using the `subplot()` function. Check the help. I also do a fancy bit (`sharex=plt.gca()`) to get the two plots to use the same x axis, and add in some labels."
   ]
  },
  {
   "cell_type": "code",
   "execution_count": null,
   "metadata": {},
   "outputs": [],
   "source": [
    "plt.subplot(211)\n",
    "plt.plot(time, voltage-exponential(time, popt_first[0],popt_first[1], popt_first[2]),'g')\n",
    "plt.ylabel(\"residuals\")\n",
    "plt.subplot(212, sharex=plt.gca())\n",
    "plt.plot(time,voltage)\n",
    "plt.plot(time, exponential(time, popt_first[0],popt_first[1], popt_first[2]))\n",
    "plt.legend((\"Raw data\", \"Model\"))\n",
    "plt.ylabel(\"Counts (au)\")\n",
    "plt.xlabel(\"time (s)\")\n",
    "plt.subplots_adjust(hspace=0)\n"
   ]
  },
  {
   "cell_type": "markdown",
   "metadata": {},
   "source": [
    "### Looking at the parameter errors\n",
    "\n",
    "Alright let's get back to the other data that `curve_fit` generates, the covariance matrix. The diagonal elements of this matrix are the variance in each parameter, so the square root of the diagonals are the standard deviation of that parameter. What does that mean? It means these elements are an estimate of how strongly the model function depends on this parameter, or, conversely, how carefully we know that parameter. If a parameter is completely unnecessary to the fit, or is very poorly determined, then it will have a large error. In the cell below, I grab the diagonal elements, take their square root, and print them out."
   ]
  },
  {
   "cell_type": "code",
   "execution_count": null,
   "metadata": {},
   "outputs": [],
   "source": [
    "perr_first = np.sqrt(np.diag(pcov_first))\n",
    "print(perr_first)"
   ]
  },
  {
   "cell_type": "markdown",
   "metadata": {},
   "source": [
    "Note how those errors compare to the parameter size. I've re-written my results in the table below in a human readable format:\n",
    "\n",
    "|Parameter|Value                |Uncertainty        |\n",
    "|---------|-----                |-----------        |\n",
    "|a        |0.08897              |0.00009            |\n",
    "|k        | -2.258$\\times 10^6$ |0.005$\\times 10^3$ |\n",
    "|b        | 0.00143             |0.00004            |\n",
    "\n",
    "Consider the size of the uncertainty relative to each number. We don't care about the absolute value of the uncertainty, we care about how it looks relative to it's base value. It can be helpful to convert to a percent relative uncertainty when deciding how you feel about any given uncertainty value. One way to visualize that is the following bar graph. The y-axis is the percent uncertainty on each parameter. Note that, while `b` has the greatest uncertainty, they're all pretty small percentages."
   ]
  },
  {
   "cell_type": "code",
   "execution_count": null,
   "metadata": {},
   "outputs": [],
   "source": [
    "plt.bar(('a','k','b'), perr_first/popt_first*100)"
   ]
  },
  {
   "cell_type": "markdown",
   "metadata": {},
   "source": [
    "\n",
    "### A brief reminder on sig figs and uncertainty\n",
    "\n",
    "When your value has an uncertainty, you round that to one digit. Then you round the value itself to match the uncertainty. Write uncertainties in a way to make it as clear as possible how big they are relative to the base number. If you're going to use scientific notation, make the base number and the uncertainty match if that's at all reasonable.\n",
    "\n",
    "## Let's try a second model\n",
    "\n",
    "### Setting it up\n",
    "\n",
    "The first model I tried was a decaying exponential function. This is the function form that you expect if the signal is proportional to a chemical species that is varying according to a first order reaction. Let's test if this is a good hypothesis, and see if the data is better fit as a second order reaction."
   ]
  },
  {
   "cell_type": "code",
   "execution_count": null,
   "metadata": {},
   "outputs": [],
   "source": [
    "def secondorder(x, a, k, b):\n",
    "    ''' Returns the kinetics trace for a second order reaction for any data set x sent to the function'''\n",
    "    return a/(1 - k*x*a)+b\n"
   ]
  },
  {
   "cell_type": "code",
   "execution_count": null,
   "metadata": {},
   "outputs": [],
   "source": [
    "popt_sec, pcov_sec = curve_fit(secondorder, time, voltage, p0=(.1, 1, 0))\n",
    "perr_sec = np.sqrt(np.diag(pcov_sec))\n",
    "print(popt_sec)\n",
    "print(perr_sec)\n",
    "\n",
    "plt.figure(1)\n",
    "plt.bar(('a','k','b'), perr_sec/popt_sec*100)\n",
    "\n",
    "plt.figure(2)\n",
    "plt.subplot(211)\n",
    "plt.plot(time, voltage-secondorder(time, popt_sec[0],popt_sec[1], popt_sec[2]),'g')\n",
    "plt.ylabel(\"residuals\")\n",
    "plt.subplot(212, sharex=plt.gca())\n",
    "plt.plot(time,voltage)\n",
    "plt.plot(time, secondorder(time, popt_sec[0],popt_sec[1], popt_sec[2]))\n",
    "plt.legend((\"Raw data\", \"Model\"))\n",
    "plt.ylabel(\"Counts (au)\")\n",
    "plt.xlabel(\"time (s)\")\n",
    "plt.subplots_adjust(hspace=0)"
   ]
  },
  {
   "cell_type": "markdown",
   "metadata": {},
   "source": [
    "### Comparing the two models\n",
    "\n",
    "How do we decide between the two fits? On the one hand, the second order fit gives lower uncertainties overall in the parameters. That makes it attractive. But lok at the plot of the residuals and the raw data. The residuals show a clear functional form. This is refelected in the bottom subplot, where you can see that the model wanders above and below the raw data across the length of the data set. Given these two function forms, I think first order kinetics fits the data better than second order.\n",
    "\n",
    "## Looking at a poly fit\n",
    "\n",
    "You may have heard me ranting about polynomial fits in 311L. Let's explore the two reasons why I prefer other fit functions. Here, I'll fit the data to a third order polynomail."
   ]
  },
  {
   "cell_type": "code",
   "execution_count": null,
   "metadata": {},
   "outputs": [],
   "source": [
    "def polyfit(x, a, b, c, d):\n",
    "    ''' Returns a third order polynomial in x'''\n",
    "    return a*x**3 +b*x**2 + c*x + d\n",
    "    \n",
    "popt_poly, pcov_poly = curve_fit(polyfit, time, voltage, p0=(2*10**16, 10*10**10, .1, 0))\n",
    "perr_poly = np.sqrt(np.diag(pcov_poly))\n",
    "print(popt_poly)\n",
    "print(perr_poly)\n",
    "\n",
    "plt.figure(1)\n",
    "plt.bar(('a','b','c', 'd'), perr_poly/popt_poly*100)\n",
    "\n",
    "plt.figure(2)\n",
    "plt.subplot(211)\n",
    "plt.plot(time, voltage-polyfit(time, popt_poly[0],popt_poly[1], popt_poly[2], popt_poly[3]),'g')\n",
    "plt.ylabel(\"residuals\")\n",
    "plt.subplot(212, sharex=plt.gca())\n",
    "plt.plot(time,voltage)\n",
    "plt.plot(time, polyfit(time, popt_poly[0],popt_poly[1], popt_poly[2], popt_poly[3]))\n",
    "plt.legend((\"Raw data\", \"Model\"))\n",
    "plt.ylabel(\"Counts (au)\")\n",
    "plt.xlabel(\"time (s)\")\n",
    "plt.subplots_adjust(hspace=0)"
   ]
  },
  {
   "cell_type": "markdown",
   "metadata": {},
   "source": [
    "On the surface, this isn't a bad fit. The parameters are well determined. The residuals are weird, but not super weird. The plot of the model on top of the experimental data seems okay, though something odd is happening at the end. That's where poly fits can get in trouble. Remember, we're chemists, and we have intuition about how this data should look. In this case, it should decay to zero, and then stay there for ever. Both first-order and second-order kinetics models give us this behavior. I'm going to create a longer time vector and replot the comparison, allowing the model function to extend beyond my experimental data."
   ]
  },
  {
   "cell_type": "code",
   "execution_count": null,
   "metadata": {},
   "outputs": [],
   "source": [
    "plt.plot(time,voltage)\n",
    "time_extended=np.linspace(0, 3*10**-6, 1000)\n",
    "plt.plot(time_extended, polyfit(time_extended, popt_poly[0],popt_poly[1], popt_poly[2], popt_poly[3]))\n"
   ]
  },
  {
   "cell_type": "markdown",
   "metadata": {},
   "source": [
    "The polynomial fit turns down after we have no data to constrain it. So this is my first reason for avoiding poly fits: they can behave very oddly outside the data region. The higher order you allow your polynomial fit to go, the more sharp turns and bends it can take. If you intend to extrapolate your data, you need to remember this behavior is possible.\n",
    "\n",
    "The second reason to generally avoid a polynomial fit is that they usually aren't physically meaningful. While the `k` value in the kinetics models tells us the reaction rate, what do any of the parameters in the poly fit tell us? If you have a reasonable physical model available, it's a good idea to try that.\n",
    "\n",
    "One place where a poly fit **can** be helpful is something called a spline, which is a piecewise polynomial that you use to stick two functions together or interpolate between points. They're not helpful here, but it's a nifty tool if you get the chance to use one.\n",
    "\n",
    "# Other useful things\n",
    "\n",
    "## Fitting spectra and other data\n",
    "\n",
    "While it's not necessary for this experiment, it's useful to know that you can use this method to extract fit parameters from *any* shape you feel like. For instance, peaks in many spectra are well fit as Gaussian, lognormal, or Lorentzian. Some analysis software (often packaged with the spectrometer) have robust peak finding routines that use functions like `curve_fit` to find and characterize all of the peaks in a spectrum. You can also fit a simple spectrum manually using the functions I've shown you here. Basically, you can use this method to fit any data set to any functional form and extract the model parameters.\n",
    "\n",
    "## Weighting data\n",
    "\n",
    "A great advantage to using `curve_fit` is the ability to weight your data. Consider data where you have some measurement of the uncertainty (**alert, this is all data**), and that uncertainty is different across the data set. It would be useful to tell `curve_fit` that you know there is more uncertainty on some of the points, and that they should therefore be less important in the overall fit. This is what it means to weight your data. The optional argument `sigma` gets passed to `curve_fit` to tell it the weights of each data set. Remember that least squares minimization means to minimize:\n",
    "\n",
    "\\begin{equation\n",
    "\\Sigma (y_{obs} - y_{calc})^2\n",
    "\\end{equation}\n",
    "\n",
    "In a weighted least squares fit, we weight each data point by some measure of how we trust it, `w`, and minimize the following:\n",
    "\n",
    "\\begin{equation}\n",
    "\\Sigma w(y_{obs} - y_{calc})^2\n",
    "\\end{equation}\n",
    "\n",
    "There are several ways to come up with reasonable weighting factors. If you're minizing data with repeated measurements, then\n",
    "\n",
    "\\begin{equation}\n",
    "w = \\frac{1}{\\sigma^2}\n",
    "\\end{equation}\n",
    "\n",
    "where $\\sigma$ is the standard deviation of the repeated measurement.\n",
    "\n",
    "A special case of this becomes useful in some of the experiments we'll be working on. As you'll learn in chemistry 461, there are different types of noise. One, called shot noise, is known to follow Poisson statistics. This is basically the type of error that comes from having a small number of discrete elements causing the observed signal. Shot noise is the dominant source of uncertainty in processes that produce a countable number of photons. In this case, it turns out that the $\\sigma = \\sqrt{y_i}$, and we end up with the weight\n",
    "\n",
    "\\begin{equation}\n",
    "w = \\frac{1}{y_i}\n",
    "\\end{equation}\n",
    "\n",
    "where $y_i$ is the value of the signal at the $i$th point. This gives us a unique weighting factor for each data point. Let's assume for the sake of argument that the sample data I've been working is dominated by shot noise. I re-fit my data using this weighting scheme below. Notice the way the uncertainty is put into `curve_fit` - it wants the uncertainties, not the weighting factor."
   ]
  },
  {
   "cell_type": "code",
   "execution_count": null,
   "metadata": {},
   "outputs": [],
   "source": [
    "popt_weighted, pcov_weighted = curve_fit(exponential, time, voltage, p0=(.1, -1000000, 0), sigma=voltage**.5)\n",
    "perr_weighted = np.sqrt(np.diag(pcov_weighted))\n",
    "print(popt_weighted)\n",
    "print(perr_weighted)\n",
    "\n",
    "plt.figure(1)\n",
    "plt.bar(('a','k','b'), perr_weighted/popt_weighted*100)\n",
    "\n",
    "plt.figure(2)\n",
    "plt.subplot(211)\n",
    "plt.plot(time, voltage-exponential(time, popt_weighted[0],popt_weighted[1], popt_weighted[2]),'g')\n",
    "plt.ylabel(\"residuals\")\n",
    "plt.subplot(212, sharex=plt.gca())\n",
    "plt.plot(time,voltage)\n",
    "plt.plot(time, exponential(time, popt_weighted[0],popt_weighted[1], popt_weighted[2]))\n",
    "plt.legend((\"Raw data\", \"Model\"))\n",
    "plt.ylabel(\"Counts (au)\")\n",
    "plt.xlabel(\"time (s)\")\n",
    "plt.subplots_adjust(hspace=0)"
   ]
  },
  {
   "cell_type": "markdown",
   "metadata": {},
   "source": [
    "In this case, the weighting factor only altered the parameters slightly, but adjusted the fit so that it is stronger at smaller signal values.\n",
    "\n",
    "It is not always necessary to weight your data, however, when you have a good reason to trust some points more than others, it's a good tool in your toolbox. You should be sure that you have a reason for how you decide the weighting factor, and that information belongs in any description of how you fit your data when you write it up.\n",
    "\n",
    "## Automating your work\n",
    "\n",
    "The code I've provided you with gets the fit done. However, if you want to change models, or fit many data sets, it's clunky. You could combine all the code into a function or a script that does more of the work for you. This is not at all necessary, but for those of you who like to code, go ahead and do it.\n"
   ]
  },
  {
   "cell_type": "markdown",
   "metadata": {},
   "source": [
    "# Your turn\n",
    "\n",
    "We recorded video of the foam from adding Mentos to Diet Coke as a class. Your assignment is to extract foam volume as a function of time, fit the data, and convince me that you're right.\n",
    "\n",
    "### Group work?\n",
    "\n",
    "You're welcome to chat with your classmates as you work. Actually, that's encouraged. We've got a whole space in Webex just for programming talk. Ask your questions, answer questions, rant about your difficulties. But at the end of the assignment, you should be turning in your own work.\n",
    "\n",
    "### Extracting the data\n",
    "\n",
    "I will put the video file(s) in the class shared Google Drive folder, which is linked on Blackboard, probably in more than one location. I will also extract frames from one of the video files and post them in the shared folder. You'll need to either watch the video or step through the still frames and get foam volume at each time.\n",
    "\n",
    " - You may simply grab one set of data and move on with your life\n",
    " - You may also choose to work together with some or all of the class to assemble a data set\n",
    " - You might want to create a spreadsheet in the shared folder where different students can put in their reading of foam volume and a description of how they did it\n",
    " - Different students could read the same time points which gives you more statistical power\n",
    " - Or you could break up the data set to get through it faster\n",
    " - This is as much an exercise in self orginization as a class as it is in your experimental abilities\n",
    " - Consider how to record the volumes. The measurement device is graduated in 25mL increments but is upside down. There is also some head space that I have not measured, though you're welcome to do so.\n",
    " - Probably don't obesses too much, just try to think carefully about it as you go.\n",
    " - Based on results from Spring 2020, it'll be really hard to fit if you only have ~20 points. 50 is better. 100 is even better.\n",
    "\n",
    "### Fitting the data\n",
    "\n",
    "Set up a new Jupyter notebook. Import your data. Now decide which portion of your data you wish to fit. Any of the following is acceptable:\n",
    "\n",
    " - Fit the initial rise\n",
    " - Fit the decay of foam volume\n",
    " - Fit the entire data set\n",
    "\n",
    "Obviously, each of those is a different shape and will require a different fuctional form. Do what you need to do in order to fit your data set as rigorously as possible. You'll want to consider if you have any chemical intuition about what functional form might be relevant. You'll also need to pick a function form that can be the shape of the data.\n",
    "\n",
    "### Cleaning it up and turning it in\n",
    "\n",
    "You're going to turn in your Jupyter notebook, but clean it up first. The top section of your notebook should be your data import, showing any work you needed to do to get the data ready to fit. Next, show me a fit you rejected that's not totally implausible, but that you rejected. I need to see the raw data, your fit, a residuals plot, and a representation of parameter error. Then discuss how this information caused you to reject the model. Finally, show me your final choice model fit. I need to see the raw data, your fit, residuals, and parameter error. Discuss why this is your best choice for a fit.\n",
    "\n",
    "You should make this notebook easy for me to follow. That means you're going to need to comment as you go, and make the plots pretty enough for me to read. There is no need to obsess, but consider if an axis label, legend, or zoom is necessary for me to see what you want me to see. You're also going to need to type plain text describing what you did, just like the cell I'm typing in right now. These cells are called **markdown** cells. You can convert a cell to markdown using the drop down menu at the top of a notebook, or by pressing escape (so the side of the cell turns blue) and then pressing `m`. Your discussion of fits should be done in markdown cells. You may add any extra markdown cells needed to make your notebook easy for me to follow.\n",
    "\n",
    "When you are done, save the file with your name as the filename, and upload both your notebook and your datafile to Blackboard. You will be graded as follows:\n",
    "\n",
    "\n",
    "| Thing | Points|\n",
    "|-------|-------|\n",
    "| You upload the .ipynb file and your data file, both with filenames that include your name | 1|\n",
    "|All your code executes | 4|\n",
    "|Your notebook is cleaned up enough that I can follow it | 5|\n",
    "|You have raw data, a fit, a residuals plot, and a representation of parameter error for a fit that doesn't work|10|\n",
    "|You have a rigorous discussion of why that fit is not optimal|10|\n",
    "|You have raw data, a fit, a residuals plot, and a representation of parameter error for a fit that does work|10|\n",
    "|You convince me that this fit is an acceptable fit | 10|\n",
    "\n",
    "Your \"bad\" fit should be something that appears reasonable as a functional form, but you reject based on my descriptions of how we decide which fit to accept."
   ]
  },
  {
   "cell_type": "code",
   "execution_count": null,
   "metadata": {},
   "outputs": [],
   "source": []
  }
 ],
 "metadata": {
  "kernelspec": {
   "display_name": "Python 3",
   "language": "python",
   "name": "python3"
  },
  "language_info": {
   "codemirror_mode": {
    "name": "ipython",
    "version": 3
   },
   "file_extension": ".py",
   "mimetype": "text/x-python",
   "name": "python",
   "nbconvert_exporter": "python",
   "pygments_lexer": "ipython3",
   "version": "3.8.5"
  }
 },
 "nbformat": 4,
 "nbformat_minor": 2
}
